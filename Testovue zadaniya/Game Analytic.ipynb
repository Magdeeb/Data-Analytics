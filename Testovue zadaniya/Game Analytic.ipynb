{
 "cells": [
  {
   "cell_type": "markdown",
   "metadata": {},
   "source": [
    "Задание № 1 В специальной лотерее игрок выбирает 5 разных чисел из возможных 30. В этот же день случайным образом определяется \n",
    "победная комбинация из 7 разных чисел (из того же набора). Игрок считается победителем в случае, если совпадают любые 4 числа \n",
    "в выбранном им наборе и в победной комбинации.\n",
    "Какова вероятность выигрыша? "
   ]
  },
  {
   "cell_type": "code",
   "execution_count": 169,
   "metadata": {},
   "outputs": [
    {
     "data": {
      "text/plain": [
       "0.005648884959229787"
      ]
     },
     "execution_count": 169,
     "metadata": {},
     "output_type": "execute_result"
    }
   ],
   "source": [
    "N= 30\n",
    "K= 7\n",
    "NK = 30 - 7\n",
    "n= 5\n",
    "k= 4\n",
    "nk = 5 - 4\n",
    "def factorial(n):\n",
    "    if n == 1:\n",
    "        return 1\n",
    "    else: \n",
    "        return n * factorial(n-1)\n",
    "\n",
    "ckK = factorial(K)/(factorial(K-k)*factorial(k))\n",
    "cnkNK = factorial(NK)/(factorial(NK-nk)*factorial(nk))\n",
    "cnN = factorial(N)/(factorial(N-n)*factorial(n))\n",
    "p = (ckK*cnkNK)/cnN\n",
    "p\n",
    "    \n",
    "\n"
   ]
  },
  {
   "cell_type": "markdown",
   "metadata": {},
   "source": [
    "Ответ: 0.0056"
   ]
  },
  {
   "cell_type": "markdown",
   "metadata": {},
   "source": [
    "Задание № 2\n",
    "Можно ли с уверенностью утверждать, что удержание первого дня за период с 15 по 18 сентября выше, чем удержание первого дня за период с 19 по 22 сентября? И почему?"
   ]
  },
  {
   "cell_type": "code",
   "execution_count": 7,
   "metadata": {},
   "outputs": [],
   "source": [
    "import pandas as pd\n",
    "from datetime import datetime"
   ]
  },
  {
   "cell_type": "code",
   "execution_count": 151,
   "metadata": {},
   "outputs": [],
   "source": [
    "player = pd.read_csv('Lightmap. Тестовое задание №2.csv')\n",
    "player['date'] = player['event_timestamp'].apply(lambda x: datetime.utcfromtimestamp(int(x)).strftime('%Y-%m-%d'))\n",
    "fo = player[['player_id', 'date', 'event_name']]"
   ]
  },
  {
   "cell_type": "code",
   "execution_count": 112,
   "metadata": {},
   "outputs": [],
   "source": [
    "inst = fo[(fo.date == '2021-09-15') & (fo.event_name == 'install')]\n",
    "login = fo[(fo.date == '2021-09-16') & (fo.event_name == 'login')]\n",
    "relogin = login.rename({'date':'rdate', 'event_name':'revent_name'},axis=1)\n"
   ]
  },
  {
   "cell_type": "code",
   "execution_count": 143,
   "metadata": {},
   "outputs": [
    {
     "data": {
      "text/plain": [
       "5873"
      ]
     },
     "execution_count": 143,
     "metadata": {},
     "output_type": "execute_result"
    }
   ],
   "source": [
    "def install(first, last):\n",
    "    quantinstall = 0\n",
    "    start_date = date(2021, 9, first)\n",
    "    end_date = date(2021, 9, last)\n",
    "    day_count = (end_date - start_date).days + 1\n",
    "    for single_date in (start_date + timedelta(n) for n in range(day_count)):\n",
    "        quantinstall += len(fo[(fo.date == str(single_date)) & (fo.event_name == 'install')])\n",
    "    return quantinstall\n",
    "\n",
    "install(15, 18)"
   ]
  },
  {
   "cell_type": "code",
   "execution_count": 148,
   "metadata": {},
   "outputs": [
    {
     "data": {
      "text/plain": [
       "4094"
      ]
     },
     "execution_count": 148,
     "metadata": {},
     "output_type": "execute_result"
    }
   ],
   "source": [
    "def login(first, last):\n",
    "    quantlogin = 0\n",
    "    start_date = date(2021, 9, first)\n",
    "    end_date = date(2021, 9, last)\n",
    "    day_count = (end_date - start_date).days + 1\n",
    "    for single_date in (start_date + timedelta(n) for n in range(day_count)):\n",
    "        inst = fo[(fo.date == str(single_date)) & (fo.event_name == 'install')]\n",
    "        login = fo[(fo.date == str(single_date + timedelta(days=1))) & (fo.event_name == 'login')]\n",
    "        relogin = login.rename({'date':'rdate', 'event_name':'revent_name'},axis=1)\n",
    "        quantlogin = quantlogin + len(relogin.join(inst.set_index('player_id'), on='player_id', how='inner'))\n",
    "    return quantlogin\n",
    "\n",
    "login(15, 18)"
   ]
  },
  {
   "cell_type": "code",
   "execution_count": 155,
   "metadata": {},
   "outputs": [
    {
     "name": "stdout",
     "output_type": "stream",
     "text": [
      "P1= 69 P2= 56\n"
     ]
    }
   ],
   "source": [
    "p1 = int((login(15, 18)/install(15, 18))*100)\n",
    "p2 = int((login(19, 22)/install(19, 22))*100)\n",
    "print('P1=', p1, 'P2=', p2)"
   ]
  },
  {
   "cell_type": "markdown",
   "metadata": {},
   "source": [
    "Ответ: Да, можно"
   ]
  },
  {
   "cell_type": "markdown",
   "metadata": {},
   "source": [
    "Задание № 3 Требуется построить кривую накопительной суммы платежей когорты по дням с момента регистрации (один день - одна \n",
    "точка на кривой)."
   ]
  },
  {
   "cell_type": "code",
   "execution_count": 175,
   "metadata": {},
   "outputs": [],
   "source": [
    "import matplotlib.pyplot as plt"
   ]
  },
  {
   "cell_type": "code",
   "execution_count": 213,
   "metadata": {},
   "outputs": [
    {
     "data": {
      "text/html": [
       "<div>\n",
       "<style scoped>\n",
       "    .dataframe tbody tr th:only-of-type {\n",
       "        vertical-align: middle;\n",
       "    }\n",
       "\n",
       "    .dataframe tbody tr th {\n",
       "        vertical-align: top;\n",
       "    }\n",
       "\n",
       "    .dataframe thead th {\n",
       "        text-align: right;\n",
       "    }\n",
       "</style>\n",
       "<table border=\"1\" class=\"dataframe\">\n",
       "  <thead>\n",
       "    <tr style=\"text-align: right;\">\n",
       "      <th></th>\n",
       "      <th>event_timestamp</th>\n",
       "      <th>registration_timestamp</th>\n",
       "      <th>inapp_size</th>\n",
       "      <th>event_day</th>\n",
       "    </tr>\n",
       "  </thead>\n",
       "  <tbody>\n",
       "    <tr>\n",
       "      <th>0</th>\n",
       "      <td>1611154038</td>\n",
       "      <td>1610971359</td>\n",
       "      <td>5</td>\n",
       "      <td>2021-01-20</td>\n",
       "    </tr>\n",
       "    <tr>\n",
       "      <th>1</th>\n",
       "      <td>1611759898</td>\n",
       "      <td>1610972522</td>\n",
       "      <td>3</td>\n",
       "      <td>2021-01-27</td>\n",
       "    </tr>\n",
       "    <tr>\n",
       "      <th>2</th>\n",
       "      <td>1611057594</td>\n",
       "      <td>1610974545</td>\n",
       "      <td>5</td>\n",
       "      <td>2021-01-19</td>\n",
       "    </tr>\n",
       "    <tr>\n",
       "      <th>3</th>\n",
       "      <td>1611562555</td>\n",
       "      <td>1610976251</td>\n",
       "      <td>3</td>\n",
       "      <td>2021-01-25</td>\n",
       "    </tr>\n",
       "    <tr>\n",
       "      <th>4</th>\n",
       "      <td>1611082290</td>\n",
       "      <td>1610976461</td>\n",
       "      <td>3</td>\n",
       "      <td>2021-01-19</td>\n",
       "    </tr>\n",
       "  </tbody>\n",
       "</table>\n",
       "</div>"
      ],
      "text/plain": [
       "   event_timestamp  registration_timestamp  inapp_size   event_day\n",
       "0       1611154038              1610971359           5  2021-01-20\n",
       "1       1611759898              1610972522           3  2021-01-27\n",
       "2       1611057594              1610974545           5  2021-01-19\n",
       "3       1611562555              1610976251           3  2021-01-25\n",
       "4       1611082290              1610976461           3  2021-01-19"
      ]
     },
     "execution_count": 213,
     "metadata": {},
     "output_type": "execute_result"
    }
   ],
   "source": [
    "trans = pd.read_csv('Lightmap. Тестовое задание №3.csv')\n",
    "trans['event_day'] = trans['event_timestamp'].apply(lambda x: datetime.utcfromtimestamp(int(x)).strftime('%Y-%m-%d'))\n",
    "trans.head()"
   ]
  },
  {
   "cell_type": "code",
   "execution_count": 211,
   "metadata": {},
   "outputs": [
    {
     "data": {
      "text/plain": [
       "<AxesSubplot:>"
      ]
     },
     "execution_count": 211,
     "metadata": {},
     "output_type": "execute_result"
    },
    {
     "data": {
      "image/png": "[encoded data removed]",
      "text/plain": [
       "<Figure size 432x288 with 1 Axes>"
      ]
     },
     "metadata": {
      "needs_background": "light"
     },
     "output_type": "display_data"
    }
   ],
   "source": [
    "asf = trans.groupby(trans['event_day'])['inapp_size'].sum().reset_index()\n",
    "asf.plot(grid=True)"
   ]
  },
  {
   "cell_type": "code",
   "execution_count": 246,
   "metadata": {},
   "outputs": [],
   "source": []
  }
 ],
 "metadata": {
  "kernelspec": {
   "display_name": "Python 3",
   "language": "python",
   "name": "python3"
  },
  "language_info": {
   "codemirror_mode": {
    "name": "ipython",
    "version": 3
   },
   "file_extension": ".py",
   "mimetype": "text/x-python",
   "name": "python",
   "nbconvert_exporter": "python",
   "pygments_lexer": "ipython3",
   "version": "3.8.5"
  }
 },
 "nbformat": 4,
 "nbformat_minor": 4
}
