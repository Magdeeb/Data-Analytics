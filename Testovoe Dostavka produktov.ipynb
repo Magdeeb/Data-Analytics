{
 "cells": [
  {
   "cell_type": "markdown",
   "metadata": {},
   "source": [
    "Основные KPI"
   ]
  },
  {
   "cell_type": "code",
   "execution_count": null,
   "metadata": {},
   "outputs": [],
   "source": [
    "Популярность:\n",
    "Количество активных пользователей(сайт, приложение)\n",
    "Количество заказов(сайт, приложение)\n",
    "Количество брошенных заказов(сайт, приложение)\n",
    "Частота покупок клиентов\n",
    "\n",
    "Качество сервиса:\n",
    "Средняя скорость доставки\n",
    "Средняя скорость обработки заказа\n",
    "Доставляемость заказов\n",
    "Общая оценка удовлетворенности сервисом\n",
    "\n",
    "Финансовые показатели:\n",
    "Средний чек\n",
    "Средние затраты на доставку \n",
    "\n",
    "Программы лояльности и промокоды:\n",
    "Наиболее популярные товары\n",
    "Наиболее популярные магазины"
   ]
  },
  {
   "cell_type": "code",
   "execution_count": 1,
   "metadata": {},
   "outputs": [],
   "source": [
    "import pandas as pd\n",
    "import matplotlib.pyplot as plt\n",
    "import numpy as np"
   ]
  },
  {
   "cell_type": "code",
   "execution_count": 22,
   "metadata": {},
   "outputs": [
    {
     "data": {
      "text/html": [
       "<div>\n",
       "<style scoped>\n",
       "    .dataframe tbody tr th:only-of-type {\n",
       "        vertical-align: middle;\n",
       "    }\n",
       "\n",
       "    .dataframe tbody tr th {\n",
       "        vertical-align: top;\n",
       "    }\n",
       "\n",
       "    .dataframe thead th {\n",
       "        text-align: right;\n",
       "    }\n",
       "</style>\n",
       "<table border=\"1\" class=\"dataframe\">\n",
       "  <thead>\n",
       "    <tr style=\"text-align: right;\">\n",
       "      <th></th>\n",
       "      <th>id</th>\n",
       "      <th>created_at</th>\n",
       "      <th>delivery_window_id</th>\n",
       "      <th>item_total</th>\n",
       "      <th>promo_total</th>\n",
       "      <th>cost</th>\n",
       "      <th>total_cost</th>\n",
       "      <th>ship_address_id</th>\n",
       "      <th>shipped_at</th>\n",
       "      <th>state</th>\n",
       "      <th>...</th>\n",
       "      <th>id.1</th>\n",
       "      <th>starts_at</th>\n",
       "      <th>ends_at</th>\n",
       "      <th>store_id.1</th>\n",
       "      <th>id.2</th>\n",
       "      <th>city</th>\n",
       "      <th>retailer_id</th>\n",
       "      <th>id.3</th>\n",
       "      <th>lat</th>\n",
       "      <th>lon</th>\n",
       "    </tr>\n",
       "  </thead>\n",
       "  <tbody>\n",
       "    <tr>\n",
       "      <th>0</th>\n",
       "      <td>762121.0</td>\n",
       "      <td>2018-08-28 15:30:09.000</td>\n",
       "      <td>229117.0</td>\n",
       "      <td>1120.0</td>\n",
       "      <td>-323.99</td>\n",
       "      <td>0.0</td>\n",
       "      <td>0.0</td>\n",
       "      <td>897838.0</td>\n",
       "      <td>2018-08-29 16:02:12.000</td>\n",
       "      <td>shipped</td>\n",
       "      <td>...</td>\n",
       "      <td>229117.0</td>\n",
       "      <td>2018-08-29 12:00:00.000</td>\n",
       "      <td>2018-08-29 14:00:00.000</td>\n",
       "      <td>1.0</td>\n",
       "      <td>1.0</td>\n",
       "      <td>1.0</td>\n",
       "      <td>1.0</td>\n",
       "      <td>897838.0</td>\n",
       "      <td>55.893712</td>\n",
       "      <td>37.618231</td>\n",
       "    </tr>\n",
       "    <tr>\n",
       "      <th>1</th>\n",
       "      <td>767721.0</td>\n",
       "      <td>2018-08-31 13:19:52.000</td>\n",
       "      <td>232421.0</td>\n",
       "      <td>7124.0</td>\n",
       "      <td>0.00</td>\n",
       "      <td>646.0</td>\n",
       "      <td>646.0</td>\n",
       "      <td>864605.0</td>\n",
       "      <td>2018-09-02 07:47:43.000</td>\n",
       "      <td>shipped</td>\n",
       "      <td>...</td>\n",
       "      <td>232421.0</td>\n",
       "      <td>2018-09-02 06:00:00.000</td>\n",
       "      <td>2018-09-02 08:00:00.000</td>\n",
       "      <td>1.0</td>\n",
       "      <td>1.0</td>\n",
       "      <td>1.0</td>\n",
       "      <td>1.0</td>\n",
       "      <td>864605.0</td>\n",
       "      <td>55.872829</td>\n",
       "      <td>37.607350</td>\n",
       "    </tr>\n",
       "    <tr>\n",
       "      <th>2</th>\n",
       "      <td>771433.0</td>\n",
       "      <td>2018-09-02 14:20:02.000</td>\n",
       "      <td>233250.0</td>\n",
       "      <td>2558.0</td>\n",
       "      <td>0.00</td>\n",
       "      <td>299.0</td>\n",
       "      <td>299.0</td>\n",
       "      <td>913855.0</td>\n",
       "      <td>2018-09-03 07:05:44.000</td>\n",
       "      <td>shipped</td>\n",
       "      <td>...</td>\n",
       "      <td>233250.0</td>\n",
       "      <td>2018-09-03 06:00:00.000</td>\n",
       "      <td>2018-09-03 08:00:00.000</td>\n",
       "      <td>1.0</td>\n",
       "      <td>1.0</td>\n",
       "      <td>1.0</td>\n",
       "      <td>1.0</td>\n",
       "      <td>913855.0</td>\n",
       "      <td>55.814756</td>\n",
       "      <td>37.640523</td>\n",
       "    </tr>\n",
       "    <tr>\n",
       "      <th>3</th>\n",
       "      <td>773580.0</td>\n",
       "      <td>2018-09-03 20:14:34.000</td>\n",
       "      <td>234091.0</td>\n",
       "      <td>2917.0</td>\n",
       "      <td>0.00</td>\n",
       "      <td>0.0</td>\n",
       "      <td>0.0</td>\n",
       "      <td>917150.0</td>\n",
       "      <td>2018-09-04 20:53:00.000</td>\n",
       "      <td>shipped</td>\n",
       "      <td>...</td>\n",
       "      <td>234091.0</td>\n",
       "      <td>2018-09-04 20:00:00.000</td>\n",
       "      <td>2018-09-04 22:00:00.000</td>\n",
       "      <td>1.0</td>\n",
       "      <td>1.0</td>\n",
       "      <td>1.0</td>\n",
       "      <td>1.0</td>\n",
       "      <td>917150.0</td>\n",
       "      <td>55.861626</td>\n",
       "      <td>37.671353</td>\n",
       "    </tr>\n",
       "    <tr>\n",
       "      <th>4</th>\n",
       "      <td>774683.0</td>\n",
       "      <td>2018-09-04 14:44:35.000</td>\n",
       "      <td>234920.0</td>\n",
       "      <td>3819.0</td>\n",
       "      <td>0.00</td>\n",
       "      <td>0.0</td>\n",
       "      <td>0.0</td>\n",
       "      <td>918798.0</td>\n",
       "      <td>2018-09-06 03:45:03.000</td>\n",
       "      <td>shipped</td>\n",
       "      <td>...</td>\n",
       "      <td>234920.0</td>\n",
       "      <td>2018-09-05 20:00:00.000</td>\n",
       "      <td>2018-09-05 22:00:00.000</td>\n",
       "      <td>1.0</td>\n",
       "      <td>1.0</td>\n",
       "      <td>1.0</td>\n",
       "      <td>1.0</td>\n",
       "      <td>918798.0</td>\n",
       "      <td>55.866321</td>\n",
       "      <td>37.654527</td>\n",
       "    </tr>\n",
       "  </tbody>\n",
       "</table>\n",
       "<p>5 rows × 24 columns</p>\n",
       "</div>"
      ],
      "text/plain": [
       "         id               created_at  delivery_window_id  item_total  \\\n",
       "0  762121.0  2018-08-28 15:30:09.000            229117.0      1120.0   \n",
       "1  767721.0  2018-08-31 13:19:52.000            232421.0      7124.0   \n",
       "2  771433.0  2018-09-02 14:20:02.000            233250.0      2558.0   \n",
       "3  773580.0  2018-09-03 20:14:34.000            234091.0      2917.0   \n",
       "4  774683.0  2018-09-04 14:44:35.000            234920.0      3819.0   \n",
       "\n",
       "   promo_total   cost  total_cost  ship_address_id               shipped_at  \\\n",
       "0      -323.99    0.0         0.0         897838.0  2018-08-29 16:02:12.000   \n",
       "1         0.00  646.0       646.0         864605.0  2018-09-02 07:47:43.000   \n",
       "2         0.00  299.0       299.0         913855.0  2018-09-03 07:05:44.000   \n",
       "3         0.00    0.0         0.0         917150.0  2018-09-04 20:53:00.000   \n",
       "4         0.00    0.0         0.0         918798.0  2018-09-06 03:45:03.000   \n",
       "\n",
       "     state  ...      id.1                starts_at                  ends_at  \\\n",
       "0  shipped  ...  229117.0  2018-08-29 12:00:00.000  2018-08-29 14:00:00.000   \n",
       "1  shipped  ...  232421.0  2018-09-02 06:00:00.000  2018-09-02 08:00:00.000   \n",
       "2  shipped  ...  233250.0  2018-09-03 06:00:00.000  2018-09-03 08:00:00.000   \n",
       "3  shipped  ...  234091.0  2018-09-04 20:00:00.000  2018-09-04 22:00:00.000   \n",
       "4  shipped  ...  234920.0  2018-09-05 20:00:00.000  2018-09-05 22:00:00.000   \n",
       "\n",
       "   store_id.1  id.2 city retailer_id      id.3        lat        lon  \n",
       "0         1.0   1.0  1.0         1.0  897838.0  55.893712  37.618231  \n",
       "1         1.0   1.0  1.0         1.0  864605.0  55.872829  37.607350  \n",
       "2         1.0   1.0  1.0         1.0  913855.0  55.814756  37.640523  \n",
       "3         1.0   1.0  1.0         1.0  917150.0  55.861626  37.671353  \n",
       "4         1.0   1.0  1.0         1.0  918798.0  55.866321  37.654527  \n",
       "\n",
       "[5 rows x 24 columns]"
      ]
     },
     "execution_count": 22,
     "metadata": {},
     "output_type": "execute_result"
    }
   ],
   "source": [
    "orders = pd.read_csv('orders.delivery_windows.stores.adreses.csv')\n",
    "cancel = pd.read_csv('cancellations.csv')\n",
    "repl = pd.read_csv('replacements.csv')\n",
    "orders.head()"
   ]
  },
  {
   "cell_type": "code",
   "execution_count": 3,
   "metadata": {},
   "outputs": [
    {
     "data": {
      "text/plain": [
       "257828"
      ]
     },
     "execution_count": 3,
     "metadata": {},
     "output_type": "execute_result"
    }
   ],
   "source": [
    "#количество уникальных пользователей:\n",
    "len(orders['user_id'].unique())"
   ]
  },
  {
   "cell_type": "code",
   "execution_count": 4,
   "metadata": {},
   "outputs": [
    {
     "data": {
      "text/plain": [
       "4921"
      ]
     },
     "execution_count": 4,
     "metadata": {},
     "output_type": "execute_result"
    }
   ],
   "source": [
    "#Средний чек\n",
    "int(orders.item_total.mean())"
   ]
  },
  {
   "cell_type": "code",
   "execution_count": 5,
   "metadata": {},
   "outputs": [
    {
     "data": {
      "text/plain": [
       "56017.0      493\n",
       "129033.0     427\n",
       "25097.0      422\n",
       "215536.0     405\n",
       "304851.0     279\n",
       "            ... \n",
       "998240.0       3\n",
       "165112.0       3\n",
       "218410.0       3\n",
       "678353.0       3\n",
       "1689051.0      3\n",
       "Name: user_id, Length: 69931, dtype: int64"
      ]
     },
     "execution_count": 5,
     "metadata": {},
     "output_type": "execute_result"
    }
   ],
   "source": [
    "#количество активных пользователей(больше двух заказов)\n",
    "ort = orders[['id', 'user_id']]\n",
    "ort.user_id.value_counts().loc[lambda x : x > 2]"
   ]
  },
  {
   "cell_type": "code",
   "execution_count": 6,
   "metadata": {},
   "outputs": [
    {
     "name": "stdout",
     "output_type": "stream",
     "text": [
      "27 %\n"
     ]
    }
   ],
   "source": [
    "print(int(6993100/257827), '%')\n"
   ]
  },
  {
   "cell_type": "code",
   "execution_count": 7,
   "metadata": {},
   "outputs": [
    {
     "name": "stdout",
     "output_type": "stream",
     "text": [
      "99 %\n"
     ]
    }
   ],
   "source": [
    "#Доставляемость \n",
    "orders.state.value_counts()\n",
    "        #доставленных 729963\n",
    "dost = 72996300 / orders.id.count()\n",
    "print(int(dost), '%') \n",
    "        \n"
   ]
  },
  {
   "cell_type": "code",
   "execution_count": 8,
   "metadata": {},
   "outputs": [
    {
     "data": {
      "text/plain": [
       "Timedelta('1 days 01:21:44')"
      ]
     },
     "execution_count": 8,
     "metadata": {},
     "output_type": "execute_result"
    }
   ],
   "source": [
    "#Среднее время доставки\n",
    "orders['created_at'] = pd.to_datetime(orders['created_at'])\n",
    "orders['shipped_at'] = pd.to_datetime(orders['shipped_at'])\n",
    "ordertime = orders['shipped_at'] - orders['created_at']\n",
    "ordertime.median()"
   ]
  },
  {
   "cell_type": "code",
   "execution_count": 9,
   "metadata": {},
   "outputs": [
    {
     "data": {
      "text/plain": [
       "Timedelta('0 days 23:52:40')"
      ]
     },
     "execution_count": 9,
     "metadata": {},
     "output_type": "execute_result"
    }
   ],
   "source": [
    "#Среднее время обработки заказа\n",
    "orders['starts_at'] = pd.to_datetime(orders['starts_at'])\n",
    "orderpreptime = orders['starts_at'] - orders['created_at']\n",
    "orderpreptime.median()"
   ]
  },
  {
   "cell_type": "code",
   "execution_count": 10,
   "metadata": {},
   "outputs": [
    {
     "data": {
      "text/plain": [
       "171"
      ]
     },
     "execution_count": 10,
     "metadata": {},
     "output_type": "execute_result"
    }
   ],
   "source": [
    "# средние затраты на доставку\n",
    "int(orders.total_cost.mean())"
   ]
  },
  {
   "cell_type": "code",
   "execution_count": 11,
   "metadata": {},
   "outputs": [
    {
     "data": {
      "text/html": [
       "<div>\n",
       "<style scoped>\n",
       "    .dataframe tbody tr th:only-of-type {\n",
       "        vertical-align: middle;\n",
       "    }\n",
       "\n",
       "    .dataframe tbody tr th {\n",
       "        vertical-align: top;\n",
       "    }\n",
       "\n",
       "    .dataframe thead th {\n",
       "        text-align: right;\n",
       "    }\n",
       "</style>\n",
       "<table border=\"1\" class=\"dataframe\">\n",
       "  <thead>\n",
       "    <tr style=\"text-align: right;\">\n",
       "      <th></th>\n",
       "      <th>id</th>\n",
       "    </tr>\n",
       "    <tr>\n",
       "      <th>retailer_id</th>\n",
       "      <th></th>\n",
       "    </tr>\n",
       "  </thead>\n",
       "  <tbody>\n",
       "    <tr>\n",
       "      <th>1.0</th>\n",
       "      <td>624115</td>\n",
       "    </tr>\n",
       "    <tr>\n",
       "      <th>8.0</th>\n",
       "      <td>56159</td>\n",
       "    </tr>\n",
       "    <tr>\n",
       "      <th>15.0</th>\n",
       "      <td>47372</td>\n",
       "    </tr>\n",
       "    <tr>\n",
       "      <th>16.0</th>\n",
       "      <td>2347</td>\n",
       "    </tr>\n",
       "  </tbody>\n",
       "</table>\n",
       "</div>"
      ],
      "text/plain": [
       "                 id\n",
       "retailer_id        \n",
       "1.0          624115\n",
       "8.0           56159\n",
       "15.0          47372\n",
       "16.0           2347"
      ]
     },
     "execution_count": 11,
     "metadata": {},
     "output_type": "execute_result"
    }
   ],
   "source": [
    "#Самые популярные магазины\n",
    "orders[['id', 'retailer_id']].groupby('retailer_id').count()"
   ]
  },
  {
   "cell_type": "markdown",
   "metadata": {},
   "source": [
    "Поиск точек роста"
   ]
  },
  {
   "cell_type": "code",
   "execution_count": 12,
   "metadata": {},
   "outputs": [
    {
     "data": {
      "text/plain": [
       "<matplotlib.collections.PathCollection at 0x22034d6bd30>"
      ]
     },
     "execution_count": 12,
     "metadata": {},
     "output_type": "execute_result"
    },
    {
     "data": {
      "image/png": "[encoded data removed]",
      "text/plain": [
       "<Figure size 432x288 with 1 Axes>"
      ]
     },
     "metadata": {
      "needs_background": "light"
     },
     "output_type": "display_data"
    }
   ],
   "source": [
    "#Соотношение цены заказа к количеству покупок(программа скидок от  определенного количества покупок)\n",
    "plt.scatter(orders['item_total'], orders['total_quantity'])"
   ]
  },
  {
   "cell_type": "code",
   "execution_count": 21,
   "metadata": {},
   "outputs": [
    {
     "data": {
      "text/html": [
       "<div>\n",
       "<style scoped>\n",
       "    .dataframe tbody tr th:only-of-type {\n",
       "        vertical-align: middle;\n",
       "    }\n",
       "\n",
       "    .dataframe tbody tr th {\n",
       "        vertical-align: top;\n",
       "    }\n",
       "\n",
       "    .dataframe thead th {\n",
       "        text-align: right;\n",
       "    }\n",
       "</style>\n",
       "<table border=\"1\" class=\"dataframe\">\n",
       "  <thead>\n",
       "    <tr style=\"text-align: right;\">\n",
       "      <th></th>\n",
       "      <th></th>\n",
       "      <th>id</th>\n",
       "    </tr>\n",
       "    <tr>\n",
       "      <th>city</th>\n",
       "      <th>retailer_id</th>\n",
       "      <th></th>\n",
       "    </tr>\n",
       "  </thead>\n",
       "  <tbody>\n",
       "    <tr>\n",
       "      <th rowspan=\"4\" valign=\"top\">1.0</th>\n",
       "      <th>1.0</th>\n",
       "      <td>440910</td>\n",
       "    </tr>\n",
       "    <tr>\n",
       "      <th>8.0</th>\n",
       "      <td>1273</td>\n",
       "    </tr>\n",
       "    <tr>\n",
       "      <th>15.0</th>\n",
       "      <td>38049</td>\n",
       "    </tr>\n",
       "    <tr>\n",
       "      <th>16.0</th>\n",
       "      <td>2347</td>\n",
       "    </tr>\n",
       "    <tr>\n",
       "      <th rowspan=\"3\" valign=\"top\">2.0</th>\n",
       "      <th>1.0</th>\n",
       "      <td>29618</td>\n",
       "    </tr>\n",
       "    <tr>\n",
       "      <th>8.0</th>\n",
       "      <td>5345</td>\n",
       "    </tr>\n",
       "    <tr>\n",
       "      <th>15.0</th>\n",
       "      <td>5703</td>\n",
       "    </tr>\n",
       "    <tr>\n",
       "      <th rowspan=\"3\" valign=\"top\">5.0</th>\n",
       "      <th>1.0</th>\n",
       "      <td>21673</td>\n",
       "    </tr>\n",
       "    <tr>\n",
       "      <th>8.0</th>\n",
       "      <td>7260</td>\n",
       "    </tr>\n",
       "    <tr>\n",
       "      <th>15.0</th>\n",
       "      <td>1040</td>\n",
       "    </tr>\n",
       "    <tr>\n",
       "      <th rowspan=\"3\" valign=\"top\">7.0</th>\n",
       "      <th>1.0</th>\n",
       "      <td>58998</td>\n",
       "    </tr>\n",
       "    <tr>\n",
       "      <th>8.0</th>\n",
       "      <td>18262</td>\n",
       "    </tr>\n",
       "    <tr>\n",
       "      <th>15.0</th>\n",
       "      <td>1213</td>\n",
       "    </tr>\n",
       "    <tr>\n",
       "      <th rowspan=\"2\" valign=\"top\">8.0</th>\n",
       "      <th>1.0</th>\n",
       "      <td>19884</td>\n",
       "    </tr>\n",
       "    <tr>\n",
       "      <th>8.0</th>\n",
       "      <td>9524</td>\n",
       "    </tr>\n",
       "    <tr>\n",
       "      <th rowspan=\"3\" valign=\"top\">10.0</th>\n",
       "      <th>1.0</th>\n",
       "      <td>38257</td>\n",
       "    </tr>\n",
       "    <tr>\n",
       "      <th>8.0</th>\n",
       "      <td>8626</td>\n",
       "    </tr>\n",
       "    <tr>\n",
       "      <th>15.0</th>\n",
       "      <td>863</td>\n",
       "    </tr>\n",
       "    <tr>\n",
       "      <th rowspan=\"3\" valign=\"top\">13.0</th>\n",
       "      <th>1.0</th>\n",
       "      <td>14775</td>\n",
       "    </tr>\n",
       "    <tr>\n",
       "      <th>8.0</th>\n",
       "      <td>5869</td>\n",
       "    </tr>\n",
       "    <tr>\n",
       "      <th>15.0</th>\n",
       "      <td>504</td>\n",
       "    </tr>\n",
       "  </tbody>\n",
       "</table>\n",
       "</div>"
      ],
      "text/plain": [
       "                      id\n",
       "city retailer_id        \n",
       "1.0  1.0          440910\n",
       "     8.0            1273\n",
       "     15.0          38049\n",
       "     16.0           2347\n",
       "2.0  1.0           29618\n",
       "     8.0            5345\n",
       "     15.0           5703\n",
       "5.0  1.0           21673\n",
       "     8.0            7260\n",
       "     15.0           1040\n",
       "7.0  1.0           58998\n",
       "     8.0           18262\n",
       "     15.0           1213\n",
       "8.0  1.0           19884\n",
       "     8.0            9524\n",
       "10.0 1.0           38257\n",
       "     8.0            8626\n",
       "     15.0            863\n",
       "13.0 1.0           14775\n",
       "     8.0            5869\n",
       "     15.0            504"
      ]
     },
     "execution_count": 21,
     "metadata": {},
     "output_type": "execute_result"
    }
   ],
   "source": [
    "#Самые популярные ретейлеры в разных городах(привлечение новых или увеличение доли \"отстающих\")\n",
    "orders[['city', 'retailer_id', 'id']].groupby(['city', 'retailer_id']).count()\n"
   ]
  },
  {
   "cell_type": "code",
   "execution_count": 28,
   "metadata": {},
   "outputs": [
    {
     "data": {
      "text/plain": [
       "14601325    7\n",
       "11974938    7\n",
       "12443984    7\n",
       "13430960    7\n",
       "12995013    7\n",
       "           ..\n",
       "75602521    1\n",
       "13517664    1\n",
       "10765242    1\n",
       "80632675    1\n",
       "20973569    1\n",
       "Name: item_id, Length: 1291843, dtype: int64"
      ]
     },
     "execution_count": 28,
     "metadata": {},
     "output_type": "execute_result"
    }
   ],
   "source": [
    "#При сборе корзины, сразу предлагать замену самых заменяемых и отменяемых товаров\n",
    "cancel.item_id.value_counts()"
   ]
  },
  {
   "cell_type": "code",
   "execution_count": 29,
   "metadata": {},
   "outputs": [
    {
     "data": {
      "text/plain": [
       "14703521    7\n",
       "12986716    7\n",
       "14703527    7\n",
       "27022607    6\n",
       "26670710    6\n",
       "           ..\n",
       "52698667    1\n",
       "86668731    1\n",
       "23334441    1\n",
       "23332392    1\n",
       "20971520    1\n",
       "Name: item_id, Length: 1166251, dtype: int64"
      ]
     },
     "execution_count": 29,
     "metadata": {},
     "output_type": "execute_result"
    }
   ],
   "source": [
    "repl.item_id.value_counts()"
   ]
  },
  {
   "cell_type": "code",
   "execution_count": 50,
   "metadata": {},
   "outputs": [
    {
     "name": "stdout",
     "output_type": "stream",
     "text": [
      "79 %\n"
     ]
    }
   ],
   "source": [
    "#Кол-во заказов с платной доставкой(при платной доставке, скидка на следующую покупку/доставку при чеке от ... )\n",
    "print(int((orders.total_cost[orders.total_cost != 0].count())*100/orders.shape[0]), '%')\n"
   ]
  },
  {
   "cell_type": "code",
   "execution_count": 51,
   "metadata": {},
   "outputs": [
    {
     "data": {
      "text/plain": [
       "<matplotlib.collections.PathCollection at 0x22000b9f6a0>"
      ]
     },
     "execution_count": 51,
     "metadata": {},
     "output_type": "execute_result"
    },
    {
     "data": {
      "image/png": "[encoded data removed]",
      "text/plain": [
       "<Figure size 432x288 with 1 Axes>"
      ]
     },
     "metadata": {
      "needs_background": "light"
     },
     "output_type": "display_data"
    }
   ],
   "source": [
    "#Цена на заказы в зависимости от веса(система ценообразования доставки в зависимости от веса/количества товаров)\n",
    "plt.scatter(orders['total_weight'], orders['total_cost'])"
   ]
  },
  {
   "cell_type": "markdown",
   "metadata": {},
   "source": [
    "#Всплывающие окна в приложении/на сайте со скидочными товарами партнеров"
   ]
  },
  {
   "cell_type": "code",
   "execution_count": null,
   "metadata": {},
   "outputs": [],
   "source": []
  }
 ],
 "metadata": {
  "kernelspec": {
   "display_name": "Python 3",
   "language": "python",
   "name": "python3"
  },
  "language_info": {
   "codemirror_mode": {
    "name": "ipython",
    "version": 3
   },
   "file_extension": ".py",
   "mimetype": "text/x-python",
   "name": "python",
   "nbconvert_exporter": "python",
   "pygments_lexer": "ipython3",
   "version": "3.8.5"
  }
 },
 "nbformat": 4,
 "nbformat_minor": 4
}
